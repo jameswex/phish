{
  "nbformat": 4,
  "nbformat_minor": 0,
  "metadata": {
    "colab": {
      "name": "Generate Phish Setlists with a Fine-Tuned GPT-2",
      "provenance": [],
      "collapsed_sections": [],
      "toc_visible": true
    },
    "kernelspec": {
      "name": "python3",
      "display_name": "Python 3"
    },
    "accelerator": "GPU"
  },
  "cells": [
    {
      "cell_type": "markdown",
      "metadata": {
        "id": "H7LoMj4GA4n_",
        "colab_type": "text"
      },
      "source": [
        "#  Generate Phish Setlists with a Fine-Tuned GPT-2\n",
        "\n",
        "by [James Wexler](http://twitter.com/bengiswex), adapated from work by [Max Woolf](https://colab.sandbox.google.com/drive/1VLG8e7YSEwypxU-noRNhsv5dW4NfTGce)\n",
        "\n",
        "*Last updated: December 27th, 2019*\n",
        "\n",
        "Run an advanced text generating neural network that was fine-tuned to generate Phish setlists **for free on a GPU using Collaboratory** using `gpt-2-simple`!\n",
        "\n",
        "For more about `gpt-2-simple`, you can visit [this GitHub repository](https://github.com/minimaxir/gpt-2-simple). You can also read Max's [blog post](https://minimaxir.com/2019/09/howto-gpt2/) for more information how to fine-tune GPT-2 for yourself.\n",
        "\n",
        "To get started:\n",
        "1. Copy this notebook to your Google Drive to keep it and save your changes. (File -> Save a Copy in Drive)\n",
        "2. Make sure you're running the notebook in Google Chrome.\n",
        "3. Run the cells below:\n"
      ]
    },
    {
      "cell_type": "markdown",
      "metadata": {
        "id": "cmpZhOkbA_Td",
        "colab_type": "text"
      },
      "source": [
        "## Setup\n",
        "\n",
        "I've already fine-tuned the original small GPT-2 model on past Phish setlists. These cells install the necessary libraries, download this model, and load it for use in this notebook.\n"
      ]
    },
    {
      "cell_type": "code",
      "metadata": {
        "id": "KBkpRgBCBS2_",
        "colab_type": "code",
        "colab": {},
        "cellView": "form"
      },
      "source": [
        "#@title Install the gpt-2-simple library\n",
        "%tensorflow_version 1.x\n",
        "!pip install -q gpt-2-simple\n",
        "import gpt_2_simple as gpt2"
      ],
      "execution_count": 0,
      "outputs": []
    },
    {
      "cell_type": "code",
      "metadata": {
        "id": "JwzC2Iqm_zRA",
        "colab_type": "code",
        "colab": {},
        "cellView": "form"
      },
      "source": [
        "#@title Load the Phish setlist GPT-2 model\n",
        "!wget https://storage.googleapis.com/what-if-tool-resources/scratch/checkpoint_run1.tar\n",
        "!tar xvf checkpoint_run1.tar\n",
        "sess = gpt2.start_tf_sess()\n",
        "gpt2.load_gpt2(sess, run_name='run1')"
      ],
      "execution_count": 0,
      "outputs": []
    },
    {
      "cell_type": "markdown",
      "metadata": {
        "id": "ClJwpF_ACONp",
        "colab_type": "text"
      },
      "source": [
        "## Generate Setlists"
      ]
    },
    {
      "cell_type": "markdown",
      "metadata": {
        "id": "oF4-PqF0Fl7R",
        "colab_type": "text"
      },
      "source": [
        "* **`prompt`**: The beginning of the setlist you want to generate. Can be blank, or filled out with whatever you like, to help guide what happens next.\n",
        "* **`temperature`**: The higher the temperature, the crazier the text (default 0.7)\n",
        "*  **`length`**: Number of tokens to generate. The larger this is, the more text that will be generated."
      ]
    },
    {
      "cell_type": "code",
      "metadata": {
        "id": "8DKMc0fiej4N",
        "colab_type": "code",
        "colab": {},
        "cellView": "form"
      },
      "source": [
        "prompt = 'PHISH, FRIDAY 03/06/2009' #@param {type:\"string\"}\n",
        "temperature = 0.7 #@param {type:\"slider\", min:0.3, max:1.5, step:0.1}\n",
        "length = 250 #@param {type:\"integer\"}\n",
        "\n",
        "gpt2.generate(sess,\n",
        "              length=length,\n",
        "              temperature=temperature,\n",
        "              prefix=prompt,\n",
        "              )"
      ],
      "execution_count": 0,
      "outputs": []
    },
    {
      "cell_type": "markdown",
      "metadata": {
        "id": "wmTXWNUygS5E",
        "colab_type": "text"
      },
      "source": [
        "## LICENSE\n",
        "\n",
        "MIT License\n",
        "\n",
        "Copyright (c) 2019 James Wexler and Max Woolf\n",
        "\n",
        "Permission is hereby granted, free of charge, to any person obtaining a copy\n",
        "of this software and associated documentation files (the \"Software\"), to deal\n",
        "in the Software without restriction, including without limitation the rights\n",
        "to use, copy, modify, merge, publish, distribute, sublicense, and/or sell\n",
        "copies of the Software, and to permit persons to whom the Software is\n",
        "furnished to do so, subject to the following conditions:\n",
        "\n",
        "The above copyright notice and this permission notice shall be included in all\n",
        "copies or substantial portions of the Software.\n",
        "\n",
        "THE SOFTWARE IS PROVIDED \"AS IS\", WITHOUT WARRANTY OF ANY KIND, EXPRESS OR\n",
        "IMPLIED, INCLUDING BUT NOT LIMITED TO THE WARRANTIES OF MERCHANTABILITY,\n",
        "FITNESS FOR A PARTICULAR PURPOSE AND NONINFRINGEMENT. IN NO EVENT SHALL THE\n",
        "AUTHORS OR COPYRIGHT HOLDERS BE LIABLE FOR ANY CLAIM, DAMAGES OR OTHER\n",
        "LIABILITY, WHETHER IN AN ACTION OF CONTRACT, TORT OR OTHERWISE, ARISING FROM,\n",
        "OUT OF OR IN CONNECTION WITH THE SOFTWARE OR THE USE OR OTHER DEALINGS IN THE\n",
        "SOFTWARE."
      ]
    }
  ]
}