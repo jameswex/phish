{
  "nbformat": 4,
  "nbformat_minor": 0,
  "metadata": {
    "colab": {
      "name": "Generate Phish Setlists with a Fine-Tuned GPT-2",
      "provenance": [],
      "collapsed_sections": [],
      "toc_visible": true
    },
    "kernelspec": {
      "name": "python3",
      "display_name": "Python 3"
    },
    "accelerator": "GPU"
  },
  "cells": [
    {
      "cell_type": "markdown",
      "metadata": {
        "id": "H7LoMj4GA4n_",
        "colab_type": "text"
      },
      "source": [
        "#  Generate Phish Setlists with a Fine-Tuned GPT-2\n",
        "\n",
        "by [James Wexler](http://twitter.com/bengiswex), based on work by [Max Woolf](https://colab.sandbox.google.com/drive/1VLG8e7YSEwypxU-noRNhsv5dW4NfTGce)\n",
        "\n",
        "*Last updated: December 27th, 2019*\n",
        "\n",
        "Hallucinate an imaginary Phish setlist for free in this Colab notebook using the `gpt-2-simple` library. I used the library to fine-tune GPT-2 on Phish setlists, and this notebook makes use of it.\n",
        "\n",
        "For more info about `gpt-2-simple`, you can visit [this GitHub repository](https://github.com/minimaxir/gpt-2-simple). You can also read Max's [blog post](https://minimaxir.com/2019/09/howto-gpt2/) for more information how to fine-tune GPT-2 for yourself on whatever data you want (maybe so, maybe not).\n",
        "\n",
        "For more info on the base GPT-2 model, check out [Open AI's blog post](https://openai.com/blog/better-language-models/).\n",
        "\n",
        "For a webpage version of something similar, check out my other creation [Imaginary Phish](https://imaginary-phish.glitch.me/). But this version creates much more realistic output since the GPT-2 model is very powerful, whereas Imaginary Phish uses a very simple character-RNN model. The downside is that this version can't run directly in Javascript, hence this fancy notebook.\n",
        "\n",
        "Also, check out another Phish setlist machine learning project, [Predicting What Song Phish Will Play Next With Deep Learning](https://towardsdatascience.com/predicting-what-song-phish-will-play-next-with-deep-learning-947ccce3824d) from Andrew Reed. \n",
        "\n",
        "\n",
        "---\n",
        "\n",
        "\n",
        "**Instructions**\n",
        "1. You need to be logged into a Google account to run Colab notebooks like this one. You will get a warning when you try to run the notebook as I've shared globally and isn't authored by Google. You can click \"Run Anyways\" as this notebook is harmless (I promise. You can look at all the code by expanding the cells to see what it runs).\n",
        "2. Run the cells below. You can select \"Run all\" from the runtime menu, or select each cell and click the run icon on the left side of that cell, or use the keyboard command control-Enter.\n",
        "3. Make any changes you want to the controls in the last cell and re-run that cell.\n",
        "  - Adjust the temperature slider to make the results crazier or more predictable. Higher temperature = stranger results.\n",
        "  - Write your own prompt to start the generation, or leave it blank. For example, use something like \"After the song, Trey asked the audience\" to get the model to generate some imaginary show notes, or \"Tweezer -> 46 Days ->\" to see what it wants to play next.\n",
        "  - Adjust the length to determine how much text to create at a time.\n"
      ]
    },
    {
      "cell_type": "markdown",
      "metadata": {
        "id": "cmpZhOkbA_Td",
        "colab_type": "text"
      },
      "source": [
        "## Setup\n",
        "\n",
        "I've already fine-tuned the original small GPT-2 model on past Phish setlists. These cells install the necessary libraries, download this model, and load it for use in this notebook.\n"
      ]
    },
    {
      "cell_type": "code",
      "metadata": {
        "id": "KBkpRgBCBS2_",
        "colab_type": "code",
        "cellView": "form",
        "colab": {}
      },
      "source": [
        "#@title Install the gpt-2-simple library\n",
        "%tensorflow_version 1.x\n",
        "!pip install -q gpt-2-simple\n",
        "import gpt_2_simple as gpt2"
      ],
      "execution_count": 0,
      "outputs": []
    },
    {
      "cell_type": "code",
      "metadata": {
        "id": "JwzC2Iqm_zRA",
        "colab_type": "code",
        "cellView": "form",
        "colab": {}
      },
      "source": [
        "#@title Load the Phish setlist GPT-2 model\n",
        "!wget https://storage.googleapis.com/what-if-tool-resources/scratch/checkpoint_run1.tar\n",
        "!tar xvf checkpoint_run1.tar\n",
        "sess = gpt2.start_tf_sess()\n",
        "gpt2.load_gpt2(sess, run_name='run1')"
      ],
      "execution_count": 0,
      "outputs": []
    },
    {
      "cell_type": "markdown",
      "metadata": {
        "id": "ClJwpF_ACONp",
        "colab_type": "text"
      },
      "source": [
        "## Generate Setlists"
      ]
    },
    {
      "cell_type": "markdown",
      "metadata": {
        "id": "oF4-PqF0Fl7R",
        "colab_type": "text"
      },
      "source": [
        "* **`prompt`**: The beginning of the setlist you want to generate. Can be blank, or filled out with whatever you like, to help guide what happens next.\n",
        "* **`temperature`**: The higher the temperature, the crazier the text (default 0.7)\n",
        "*  **`length`**: Number of tokens to generate. The larger this is, the more text that will be generated."
      ]
    },
    {
      "cell_type": "code",
      "metadata": {
        "id": "8DKMc0fiej4N",
        "colab_type": "code",
        "cellView": "form",
        "outputId": "11136309-7575-4b1f-9214-90a94430c98e",
        "colab": {
          "base_uri": "https://localhost:8080/",
          "height": 338
        }
      },
      "source": [
        "prompt = 'PHISH, SATURDAY 12/28/2019' #@param {type:\"string\"}\n",
        "temperature = 0.7 #@param {type:\"slider\", min:0.3, max:1.5, step:0.1}\n",
        "length = 250 #@param {type:\"integer\"}\n",
        "\n",
        "gpt2.generate(sess, length=length, temperature=temperature, prefix=prompt)"
      ],
      "execution_count": 21,
      "outputs": [
        {
          "output_type": "stream",
          "text": [
            "PHISH, SATURDAY 12/28/2019\n",
            "BILL GRAHAM CIVIC AUDITORIUM\n",
            "San Francisco , CA\n",
            "SET 1: Crowd Control, AC/DC Bag > Divided Sky, Halley's Comet[1] > Light > Camel Walk, Undermind, Halfway to the Moon, Ocelot > Walls of the Cave\n",
            "\n",
            "SET 2: 46 Days > Fuego > Runaway Jim, Meat > Waves > Walls of the Cave\n",
            "\n",
            "ENCORE: Wilson > Rocky Top\n",
            "\n",
            "[1] Unfinished.\n",
            "Bag contained a Very Long Fuse tease from Trey. Prior to the 1:20 mark of the first set, Trey, wearing a Russell Wilson t-shirt, instructed the crowd to \"Runnin' with the Niners!\" Wilson was teased prior to the start of the second set.\n",
            "PHISH, FRIDAY 12/27/2019\n",
            "BILL GRAHAM CIVIC AUDITORIUM\n",
            "San Francisco , CA\n",
            "SET 1: The Star Spangled Banner, Kill Devil Falls, Sample in a Jar, Axilla, Bathtub Gin, Bathtub Gin, Split Open and Melt, NICU > Roggae, Rift, Daniel Saw the Stone\n",
            "\n",
            "SET 2: Blaze On > Mike's\n"
          ],
          "name": "stdout"
        }
      ]
    },
    {
      "cell_type": "markdown",
      "metadata": {
        "id": "wmTXWNUygS5E",
        "colab_type": "text"
      },
      "source": [
        "## LICENSE\n",
        "\n",
        "MIT License\n",
        "\n",
        "Copyright (c) 2019 James Wexler and Max Woolf\n",
        "\n",
        "Permission is hereby granted, free of charge, to any person obtaining a copy\n",
        "of this software and associated documentation files (the \"Software\"), to deal\n",
        "in the Software without restriction, including without limitation the rights\n",
        "to use, copy, modify, merge, publish, distribute, sublicense, and/or sell\n",
        "copies of the Software, and to permit persons to whom the Software is\n",
        "furnished to do so, subject to the following conditions:\n",
        "\n",
        "The above copyright notice and this permission notice shall be included in all\n",
        "copies or substantial portions of the Software.\n",
        "\n",
        "THE SOFTWARE IS PROVIDED \"AS IS\", WITHOUT WARRANTY OF ANY KIND, EXPRESS OR\n",
        "IMPLIED, INCLUDING BUT NOT LIMITED TO THE WARRANTIES OF MERCHANTABILITY,\n",
        "FITNESS FOR A PARTICULAR PURPOSE AND NONINFRINGEMENT. IN NO EVENT SHALL THE\n",
        "AUTHORS OR COPYRIGHT HOLDERS BE LIABLE FOR ANY CLAIM, DAMAGES OR OTHER\n",
        "LIABILITY, WHETHER IN AN ACTION OF CONTRACT, TORT OR OTHERWISE, ARISING FROM,\n",
        "OUT OF OR IN CONNECTION WITH THE SOFTWARE OR THE USE OR OTHER DEALINGS IN THE\n",
        "SOFTWARE."
      ]
    }
  ]
}
